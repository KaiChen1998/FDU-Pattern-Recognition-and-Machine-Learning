{
 "cells": [
  {
   "cell_type": "code",
   "execution_count": 1,
   "metadata": {},
   "outputs": [],
   "source": [
    "import csv\n",
    "import numpy as np\n",
    "import pandas as pd\n",
    "import matplotlib.pyplot as plt\n",
    "import torch\n",
    "import torch.nn as nn\n",
    "from torch.autograd import Variable\n",
    "import torch.optim as optim"
   ]
  },
  {
   "cell_type": "code",
   "execution_count": 2,
   "metadata": {},
   "outputs": [],
   "source": [
    "import fastNLP\n",
    "from fastNLP.io.dataset_loader import CSVLoader\n",
    "from fastNLP import Batch\n",
    "from fastNLP import Vocabulary\n",
    "from fastNLP import SequentialSampler"
   ]
  },
  {
   "cell_type": "markdown",
   "metadata": {},
   "source": [
    "## Part1. Text classification using CNN with random word embedding\n",
    "### 1. data_preprocess"
   ]
  },
  {
   "cell_type": "code",
   "execution_count": 3,
   "metadata": {},
   "outputs": [],
   "source": [
    "def get_word(x):\n",
    "    if(x == ' '):\n",
    "        return [' ']\n",
    "    else:\n",
    "        return x.lower().split()\n",
    "\n",
    "def load_data(path, is_train = 0):\n",
    "    loader = CSVLoader(sep='\\t')\n",
    "    dataset = loader.load(path)\n",
    "    dataset.delete_field('SentenceId')\n",
    "    dataset.delete_field('PhraseId')\n",
    "    \n",
    "    dataset.apply(lambda x: get_word(x['Phrase']), new_field_name = 'words', is_input = True)\n",
    "    dataset.apply(lambda x: len(x['words']), new_field_name = \"length\", is_input = True)\n",
    "    dataset.delete_field('Phrase')\n",
    "    if(is_train):\n",
    "        dataset.apply(lambda x: int(x['Sentiment']), new_field_name = \"Sentiment\")\n",
    "        dataset.set_target('Sentiment')\n",
    "    return dataset"
   ]
  },
  {
   "cell_type": "code",
   "execution_count": 4,
   "metadata": {},
   "outputs": [
    {
     "ename": "FileNotFoundError",
     "evalue": "[Errno 2] No such file or directory: 'data/train.tsv'",
     "output_type": "error",
     "traceback": [
      "\u001b[1;31m---------------------------------------------------------------------------\u001b[0m",
      "\u001b[1;31mFileNotFoundError\u001b[0m                         Traceback (most recent call last)",
      "\u001b[1;32m<ipython-input-4-15200c41de10>\u001b[0m in \u001b[0;36m<module>\u001b[1;34m()\u001b[0m\n\u001b[0;32m      1\u001b[0m \u001b[1;31m# 1. get dataset\u001b[0m\u001b[1;33m\u001b[0m\u001b[1;33m\u001b[0m\u001b[0m\n\u001b[1;32m----> 2\u001b[1;33m \u001b[0mdataset\u001b[0m \u001b[1;33m=\u001b[0m \u001b[0mload_data\u001b[0m\u001b[1;33m(\u001b[0m\u001b[1;34m'data/train.tsv'\u001b[0m\u001b[1;33m,\u001b[0m \u001b[1;36m1\u001b[0m\u001b[1;33m)\u001b[0m\u001b[1;33m\u001b[0m\u001b[0m\n\u001b[0m\u001b[0;32m      3\u001b[0m \u001b[0mtrain_dataset\u001b[0m\u001b[1;33m,\u001b[0m \u001b[0mval_dataset\u001b[0m \u001b[1;33m=\u001b[0m \u001b[0mdataset\u001b[0m\u001b[1;33m.\u001b[0m\u001b[0msplit\u001b[0m\u001b[1;33m(\u001b[0m\u001b[1;36m0.2\u001b[0m\u001b[1;33m)\u001b[0m\u001b[1;33m\u001b[0m\u001b[0m\n\u001b[0;32m      4\u001b[0m \u001b[0mtest_dataset\u001b[0m \u001b[1;33m=\u001b[0m \u001b[0mload_data\u001b[0m\u001b[1;33m(\u001b[0m\u001b[1;34m'data/test.tsv'\u001b[0m\u001b[1;33m,\u001b[0m \u001b[1;36m0\u001b[0m\u001b[1;33m)\u001b[0m\u001b[1;33m\u001b[0m\u001b[0m\n\u001b[0;32m      5\u001b[0m \u001b[0mprint\u001b[0m\u001b[1;33m(\u001b[0m\u001b[1;34m\"train_dataset size: \"\u001b[0m\u001b[1;33m,\u001b[0m \u001b[0mtrain_dataset\u001b[0m\u001b[1;33m.\u001b[0m\u001b[0mget_length\u001b[0m\u001b[1;33m(\u001b[0m\u001b[1;33m)\u001b[0m\u001b[1;33m)\u001b[0m\u001b[1;33m\u001b[0m\u001b[0m\n",
      "\u001b[1;32m<ipython-input-3-9eb92dd7d8ec>\u001b[0m in \u001b[0;36mload_data\u001b[1;34m(path, is_train)\u001b[0m\n\u001b[0;32m      7\u001b[0m \u001b[1;32mdef\u001b[0m \u001b[0mload_data\u001b[0m\u001b[1;33m(\u001b[0m\u001b[0mpath\u001b[0m\u001b[1;33m,\u001b[0m \u001b[0mis_train\u001b[0m \u001b[1;33m=\u001b[0m \u001b[1;36m0\u001b[0m\u001b[1;33m)\u001b[0m\u001b[1;33m:\u001b[0m\u001b[1;33m\u001b[0m\u001b[0m\n\u001b[0;32m      8\u001b[0m     \u001b[0mloader\u001b[0m \u001b[1;33m=\u001b[0m \u001b[0mCSVLoader\u001b[0m\u001b[1;33m(\u001b[0m\u001b[0msep\u001b[0m\u001b[1;33m=\u001b[0m\u001b[1;34m'\\t'\u001b[0m\u001b[1;33m)\u001b[0m\u001b[1;33m\u001b[0m\u001b[0m\n\u001b[1;32m----> 9\u001b[1;33m     \u001b[0mdataset\u001b[0m \u001b[1;33m=\u001b[0m \u001b[0mloader\u001b[0m\u001b[1;33m.\u001b[0m\u001b[0mload\u001b[0m\u001b[1;33m(\u001b[0m\u001b[0mpath\u001b[0m\u001b[1;33m)\u001b[0m\u001b[1;33m\u001b[0m\u001b[0m\n\u001b[0m\u001b[0;32m     10\u001b[0m     \u001b[0mdataset\u001b[0m\u001b[1;33m.\u001b[0m\u001b[0mdelete_field\u001b[0m\u001b[1;33m(\u001b[0m\u001b[1;34m'SentenceId'\u001b[0m\u001b[1;33m)\u001b[0m\u001b[1;33m\u001b[0m\u001b[0m\n\u001b[0;32m     11\u001b[0m     \u001b[0mdataset\u001b[0m\u001b[1;33m.\u001b[0m\u001b[0mdelete_field\u001b[0m\u001b[1;33m(\u001b[0m\u001b[1;34m'PhraseId'\u001b[0m\u001b[1;33m)\u001b[0m\u001b[1;33m\u001b[0m\u001b[0m\n",
      "\u001b[1;32mD:\\Anaconda\\Anaconda\\lib\\site-packages\\fastNLP\\io\\dataset_loader.py\u001b[0m in \u001b[0;36mload\u001b[1;34m(self, paths)\u001b[0m\n\u001b[0;32m    147\u001b[0m         \"\"\"\n\u001b[0;32m    148\u001b[0m         \u001b[1;32mif\u001b[0m \u001b[0misinstance\u001b[0m\u001b[1;33m(\u001b[0m\u001b[0mpaths\u001b[0m\u001b[1;33m,\u001b[0m \u001b[0mstr\u001b[0m\u001b[1;33m)\u001b[0m\u001b[1;33m:\u001b[0m\u001b[1;33m\u001b[0m\u001b[0m\n\u001b[1;32m--> 149\u001b[1;33m             \u001b[1;32mreturn\u001b[0m \u001b[0mself\u001b[0m\u001b[1;33m.\u001b[0m\u001b[0m_load\u001b[0m\u001b[1;33m(\u001b[0m\u001b[0mpaths\u001b[0m\u001b[1;33m)\u001b[0m\u001b[1;33m\u001b[0m\u001b[0m\n\u001b[0m\u001b[0;32m    150\u001b[0m         \u001b[1;32mreturn\u001b[0m \u001b[1;33m{\u001b[0m\u001b[0mname\u001b[0m\u001b[1;33m:\u001b[0m \u001b[0mself\u001b[0m\u001b[1;33m.\u001b[0m\u001b[0m_load\u001b[0m\u001b[1;33m(\u001b[0m\u001b[0mpath\u001b[0m\u001b[1;33m)\u001b[0m \u001b[1;32mfor\u001b[0m \u001b[0mname\u001b[0m\u001b[1;33m,\u001b[0m \u001b[0mpath\u001b[0m \u001b[1;32min\u001b[0m \u001b[0mpaths\u001b[0m\u001b[1;33m.\u001b[0m\u001b[0mitems\u001b[0m\u001b[1;33m(\u001b[0m\u001b[1;33m)\u001b[0m\u001b[1;33m}\u001b[0m\u001b[1;33m\u001b[0m\u001b[0m\n\u001b[0;32m    151\u001b[0m \u001b[1;33m\u001b[0m\u001b[0m\n",
      "\u001b[1;32mD:\\Anaconda\\Anaconda\\lib\\site-packages\\fastNLP\\io\\dataset_loader.py\u001b[0m in \u001b[0;36m_load\u001b[1;34m(self, path)\u001b[0m\n\u001b[0;32m    498\u001b[0m         \u001b[0mds\u001b[0m \u001b[1;33m=\u001b[0m \u001b[0mDataSet\u001b[0m\u001b[1;33m(\u001b[0m\u001b[1;33m)\u001b[0m\u001b[1;33m\u001b[0m\u001b[0m\n\u001b[0;32m    499\u001b[0m         for idx, data in _read_csv(path, headers=self.headers,\n\u001b[1;32m--> 500\u001b[1;33m                                    sep=self.sep, dropna=self.dropna):\n\u001b[0m\u001b[0;32m    501\u001b[0m             \u001b[0mds\u001b[0m\u001b[1;33m.\u001b[0m\u001b[0mappend\u001b[0m\u001b[1;33m(\u001b[0m\u001b[0mInstance\u001b[0m\u001b[1;33m(\u001b[0m\u001b[1;33m**\u001b[0m\u001b[0mdata\u001b[0m\u001b[1;33m)\u001b[0m\u001b[1;33m)\u001b[0m\u001b[1;33m\u001b[0m\u001b[0m\n\u001b[0;32m    502\u001b[0m         \u001b[1;32mreturn\u001b[0m \u001b[0mds\u001b[0m\u001b[1;33m\u001b[0m\u001b[0m\n",
      "\u001b[1;32mD:\\Anaconda\\Anaconda\\lib\\site-packages\\fastNLP\\io\\file_reader.py\u001b[0m in \u001b[0;36m_read_csv\u001b[1;34m(path, encoding, headers, sep, dropna)\u001b[0m\n\u001b[0;32m     17\u001b[0m     \u001b[1;33m:\u001b[0m\u001b[1;32mreturn\u001b[0m\u001b[1;33m:\u001b[0m \u001b[0mgenerator\u001b[0m\u001b[1;33m,\u001b[0m \u001b[0mevery\u001b[0m \u001b[0mtime\u001b[0m \u001b[1;32myield\u001b[0m \u001b[1;33m(\u001b[0m\u001b[0mline\u001b[0m \u001b[0mnumber\u001b[0m\u001b[1;33m,\u001b[0m \u001b[0mcsv\u001b[0m \u001b[0mitem\u001b[0m\u001b[1;33m)\u001b[0m\u001b[1;33m\u001b[0m\u001b[0m\n\u001b[0;32m     18\u001b[0m     \"\"\"\n\u001b[1;32m---> 19\u001b[1;33m     \u001b[1;32mwith\u001b[0m \u001b[0mopen\u001b[0m\u001b[1;33m(\u001b[0m\u001b[0mpath\u001b[0m\u001b[1;33m,\u001b[0m \u001b[1;34m'r'\u001b[0m\u001b[1;33m,\u001b[0m \u001b[0mencoding\u001b[0m\u001b[1;33m=\u001b[0m\u001b[0mencoding\u001b[0m\u001b[1;33m)\u001b[0m \u001b[1;32mas\u001b[0m \u001b[0mf\u001b[0m\u001b[1;33m:\u001b[0m\u001b[1;33m\u001b[0m\u001b[0m\n\u001b[0m\u001b[0;32m     20\u001b[0m         \u001b[0mstart_idx\u001b[0m \u001b[1;33m=\u001b[0m \u001b[1;36m0\u001b[0m\u001b[1;33m\u001b[0m\u001b[0m\n\u001b[0;32m     21\u001b[0m         \u001b[1;32mif\u001b[0m \u001b[0mheaders\u001b[0m \u001b[1;32mis\u001b[0m \u001b[1;32mNone\u001b[0m\u001b[1;33m:\u001b[0m\u001b[1;33m\u001b[0m\u001b[0m\n",
      "\u001b[1;31mFileNotFoundError\u001b[0m: [Errno 2] No such file or directory: 'data/train.tsv'"
     ]
    }
   ],
   "source": [
    "# 1. get dataset\n",
    "dataset = load_data('data/train.tsv', 1)\n",
    "train_dataset, val_dataset = dataset.split(0.2)\n",
    "test_dataset = load_data('data/test.tsv', 0)\n",
    "print(\"train_dataset size: \", train_dataset.get_length())\n",
    "print(\"val_dataset size: \", val_dataset.get_length())\n",
    "print(\"test_dataset size: \", test_dataset.get_length())"
   ]
  },
  {
   "cell_type": "code",
   "execution_count": null,
   "metadata": {},
   "outputs": [],
   "source": [
    "# 2. get vocabulary\n",
    "vocab = Vocabulary(min_freq=2).from_dataset(dataset, field_name='words')\n",
    "vocab.index_dataset(train_dataset, field_name='words',new_field_name='words')\n",
    "vocab.index_dataset(val_dataset, field_name='words',new_field_name='words')\n",
    "vocab.index_dataset(test_dataset, field_name='words',new_field_name='words')\n",
    "print(\"vocabulary size: \", len(vocab))"
   ]
  },
  {
   "cell_type": "markdown",
   "metadata": {},
   "source": [
    "### 2. Hyperparameter"
   ]
  },
  {
   "cell_type": "code",
   "execution_count": 22,
   "metadata": {},
   "outputs": [
    {
     "name": "stdout",
     "output_type": "stream",
     "text": [
      "use_cuda:  True\n"
     ]
    }
   ],
   "source": [
    "is_shuffle = True\n",
    "batch_size = 64\n",
    "embedding_size = 100\n",
    "hidden_size = 256\n",
    "load_address = None\n",
    "learning_rate = 0.01\n",
    "dropout_rate = 0.5\n",
    "num_epoch = 10\n",
    "loss_history = []\n",
    "\n",
    "use_cuda = torch.cuda.is_available()\n",
    "print(\"use_cuda: \", use_cuda)\n",
    "device = torch.device(\"cuda\" if use_cuda else \"cpu\")"
   ]
  },
  {
   "cell_type": "markdown",
   "metadata": {},
   "source": [
    "### 4. Build RNN model"
   ]
  },
  {
   "cell_type": "code",
   "execution_count": 8,
   "metadata": {},
   "outputs": [
    {
     "name": "stderr",
     "output_type": "stream",
     "text": [
      "D:\\Anaconda\\Anaconda\\lib\\site-packages\\torch\\nn\\modules\\rnn.py:46: UserWarning: dropout option adds dropout after all but last recurrent layer, so non-zero dropout expects num_layers greater than 1, but got dropout=0.5 and num_layers=1\n",
      "  \"num_layers={}\".format(dropout, num_layers))\n"
     ]
    }
   ],
   "source": [
    "class CNN(nn.Module):\n",
    "    def __init__(self):\n",
    "        super(CNN,self).__init__()\n",
    "        self.embedding = nn.Embedding(len(train_voca), embedding_size)# nn.Embedding用的是N(0,1)的随机初始化\n",
    "        self.LSTM = nn.LSTM(embedding_size, hidden_size, batch_first=True)\n",
    "        self.dropout = nn.Dropout(p = 0.5)\n",
    "        self.conv1 = nn.Sequential(\n",
    "            nn.Conv2d(in_channels = 1, out_channels = num_kernel, kernel_size = (3, embedding_size)),\n",
    "            nn.ReLU(),\n",
    "            nn.AdaptiveMaxPool2d(1),\n",
    "        )\n",
    "        self.conv2 = nn.Sequential(\n",
    "            nn.Conv2d(in_channels = 1, out_channels = num_kernel, kernel_size = (4, embedding_size)),\n",
    "            nn.ReLU(),\n",
    "            nn.AdaptiveMaxPool2d(1),\n",
    "        )\n",
    "        self.conv3 = nn.Sequential(\n",
    "            nn.Conv2d(in_channels = 1, out_channels = num_kernel, kernel_size = (5, embedding_size)),\n",
    "            nn.ReLU(),\n",
    "            nn.AdaptiveMaxPool2d(1),\n",
    "        )\n",
    "        self.classifier = nn.Sequential(\n",
    "            nn.Linear(num_kernel * 3, 5)\n",
    "        )\n",
    "\n",
    "    def forward(self, x, lengths):\n",
    "        N = x.shape[0]\n",
    "        h0 = Variable(torch.zeros(1, N, hidden_size)).to(device)\n",
    "        c0 = Variable(torch.zeros(1, N, hidden_size)).to(device)\n",
    "        x = self.embedding(x)\n",
    "        x = x.view(N, 1, x.shape[1], x.shape[2])\n",
    "        conv1 = self.conv1(x).view((N, -1))\n",
    "        conv2 = self.conv2(x).view((N, -1))\n",
    "        conv3 = self.conv3(x).view((N, -1))\n",
    "        x = torch.cat((conv1, conv2, conv3), dim = 1)\n",
    "        x = self.dropout(x)\n",
    "        score = self.classifier(x)\n",
    "        return score\n",
    "    \n",
    "model = CNN()\n",
    "# model = nn.DataParallel(model)\n",
    "model = model.to(device)\n",
    "optimizer = optim.Adam(model.parameters(), lr = learning_rate)\n",
    "if(load_address is not None):\n",
    "    model = torch.load(load_address)"
   ]
  },
  {
   "cell_type": "code",
   "execution_count": 11,
   "metadata": {},
   "outputs": [
    {
     "name": "stdout",
     "output_type": "stream",
     "text": [
      "<bound method Module.named_modules of RNN(\n",
      "  (embedding): Embedding(16507, 100)\n",
      "  (LSTM): LSTM(100, 256, batch_first=True, dropout=0.5)\n",
      "  (classifier): Sequential(\n",
      "    (0): Linear(in_features=256, out_features=5, bias=True)\n",
      "  )\n",
      ")>\n"
     ]
    }
   ],
   "source": [
    "print(model.named_modules)"
   ]
  },
  {
   "cell_type": "markdown",
   "metadata": {},
   "source": [
    "### 5. Train Model"
   ]
  },
  {
   "cell_type": "code",
   "execution_count": 18,
   "metadata": {},
   "outputs": [],
   "source": [
    "def pack(batch_x, batch_y, is_train = 1):\n",
    "    x = batch_x['words']\n",
    "    lengths = batch_x['length']\n",
    "    index = torch.argsort(lengths, descending = True)\n",
    "    x = x[index].to(device)\n",
    "    lengths = lengths[index].to(device)\n",
    "    if(is_train):\n",
    "        y = batch_y['Sentiment']\n",
    "        y = y[index].to(device)\n",
    "        return x, lengths, y\n",
    "    else:\n",
    "        return x, lengths"
   ]
  },
  {
   "cell_type": "code",
   "execution_count": 13,
   "metadata": {},
   "outputs": [],
   "source": [
    "def predict(model, dataset):\n",
    "    num_correct = torch.tensor(0.0)\n",
    "    num_sample = torch.tensor(0.0)\n",
    "    for batch_x, batch_y in Batch(dataset, sampler = SequentialSampler(), batch_size = batch_size):\n",
    "        x, lengths, y = pack(batch_x, batch_y)\n",
    "        score = model(x, lengths)\n",
    "        y_predict = torch.argmax(score, dim = 1)\n",
    "        num_correct += torch.sum(y_predict == y)\n",
    "        num_sample += x.shape[0]\n",
    "    return 1.0 * num_correct / num_sample"
   ]
  },
  {
   "cell_type": "code",
   "execution_count": 14,
   "metadata": {},
   "outputs": [
    {
     "name": "stdout",
     "output_type": "stream",
     "text": [
      "Epoch: 0, loss: 21.719932556152344, accu: 0.5799999833106995\n",
      "Epoch: 1, loss: 15.82818603515625, accu: 0.4399999976158142\n",
      "Epoch: 2, loss: 8.888851165771484, accu: 0.41999998688697815\n",
      "Epoch: 3, loss: 3.2245421409606934, accu: 0.4300000071525574\n",
      "Epoch: 4, loss: 0.9089474678039551, accu: 0.4699999988079071\n",
      "Epoch: 5, loss: 0.41761109232902527, accu: 0.46000000834465027\n",
      "Epoch: 6, loss: 0.11727584153413773, accu: 0.4300000071525574\n",
      "Epoch: 7, loss: 0.06490466743707657, accu: 0.4399999976158142\n",
      "Epoch: 8, loss: 0.046852726489305496, accu: 0.4399999976158142\n",
      "Epoch: 9, loss: 0.04153157025575638, accu: 0.4399999976158142\n"
     ]
    }
   ],
   "source": [
    "def train(model, dataset, optimizer, num_epoch = 30):\n",
    "    loss_history = []\n",
    "    for i in range(num_epoch):\n",
    "        losses = 0\n",
    "        for batch_x, batch_y in Batch(dataset, sampler = SequentialSampler(), batch_size = batch_size):\n",
    "            x, lengths, y = pack(batch_x, batch_y)\n",
    "            optimizer.zero_grad()\n",
    "            score = model(x, lengths)\n",
    "            loss_fn = nn.CrossEntropyLoss().to(device)\n",
    "            loss = loss_fn(score, y)\n",
    "            loss.backward()\n",
    "            losses += loss\n",
    "            optimizer.step()\n",
    "        loss_history.append(losses)\n",
    "        print(\"Epoch: {0}, loss: {1}, accu: {2}\".format(i, losses, predict(model, val_dataset[0:100])))\n",
    "        if((i + 1) % 50 == 0):\n",
    "            name = \"model/CNN_random_batch_size\" + str(batch_size) + \"_lr\" + str(learning_rate) + \"_epoch\" + str(i + 1) + \"_embedding\" + str(embedding_size)\n",
    "            torch.save(model, name)\n",
    "    return loss_history\n",
    "\n",
    "loss_history_new = train(model, train_dataset[0:1000], optimizer, num_epoch = num_epoch)"
   ]
  },
  {
   "cell_type": "markdown",
   "metadata": {},
   "source": [
    "### 6. Get Result"
   ]
  },
  {
   "cell_type": "code",
   "execution_count": 15,
   "metadata": {},
   "outputs": [
    {
     "data": {
      "image/png": "[encoded data removed]",
      "text/plain": [
       "<Figure size 432x288 with 1 Axes>"
      ]
     },
     "metadata": {},
     "output_type": "display_data"
    }
   ],
   "source": [
    "def plot(plt):\n",
    "    plt.title(\"training loss\")\n",
    "    plt.xlabel(\"epoch\")\n",
    "    plt.ylabel('loss')\n",
    "    plt.plot(range(len(loss_history)), loss_history)\n",
    "    return plt\n",
    "\n",
    "loss_history += loss_history_new\n",
    "plt.figure(0)\n",
    "plot(plt)\n",
    "plt.show()"
   ]
  },
  {
   "cell_type": "code",
   "execution_count": 23,
   "metadata": {},
   "outputs": [],
   "source": [
    "def get_answer(model, dataset):\n",
    "    answer = []\n",
    "    for batch_x, batch_y in Batch(dataset, sampler = SequentialSampler(), batch_size = batch_size):\n",
    "        x, lengths = pack(batch_x, batch_y, 0)\n",
    "        score = model(x, lengths)\n",
    "        y_predict = torch.argmax(score, dim = 1).cpu().numpy()\n",
    "        answer += list(y_predict)\n",
    "    index = [a + 156061 for a in range(len(answer))]\n",
    "    dataframe = pd.DataFrame({'PhraseId':index, 'Sentiment':answer})\n",
    "    name = \"result/CNN_random_batch_size\" + str(batch_size) + \"_lr\" + str(learning_rate) + \"_epoch\" + str(num_epoch) + \"_embedding\" + str(embedding_size)+\".csv\"\n",
    "    dataframe.to_csv(name,index=False,sep=',')\n",
    "    return answer\n",
    "\n",
    "answer = get_answer(model, test_dataset[0:10])"
   ]
  }
 ],
 "metadata": {
  "kernelspec": {
   "display_name": "Python 3",
   "language": "python",
   "name": "python3"
  },
  "language_info": {
   "codemirror_mode": {
    "name": "ipython",
    "version": 3
   },
   "file_extension": ".py",
   "mimetype": "text/x-python",
   "name": "python",
   "nbconvert_exporter": "python",
   "pygments_lexer": "ipython3",
   "version": "3.6.5"
  }
 },
 "nbformat": 4,
 "nbformat_minor": 2
}
