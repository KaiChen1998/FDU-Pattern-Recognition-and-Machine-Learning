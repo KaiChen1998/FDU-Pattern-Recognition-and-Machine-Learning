{
 "cells": [
  {
   "cell_type": "code",
   "execution_count": 1,
   "metadata": {},
   "outputs": [],
   "source": [
    "import csv\n",
    "import random\n",
    "import string\n",
    "import numpy as np\n",
    "import pandas as pd\n",
    "import matplotlib.pyplot as plt\n",
    "import torch\n",
    "import torch.nn as nn\n",
    "import torch.nn.functional as F\n",
    "import torch.optim as optim\n",
    "from torch.utils.data import Dataset, DataLoader\n",
    "from torch.autograd import Variable\n",
    "from torch.nn.utils.rnn import pack_padded_sequence, pad_packed_sequence, pad_sequence"
   ]
  },
  {
   "cell_type": "markdown",
   "metadata": {},
   "source": [
    "## Part1. Text classification using RNN with random word embedding\n",
    "### 1. data_preprocess"
   ]
  },
  {
   "cell_type": "code",
   "execution_count": 2,
   "metadata": {},
   "outputs": [
    {
     "name": "stdout",
     "output_type": "stream",
     "text": [
      "whole dataset: 156060\n",
      "train_text length: 155060\n",
      "train_label shape: (155060,)\n",
      "validate_text length: 1000\n",
      "validate_label shape: (1000,)\n",
      "test_text length: 66292\n"
     ]
    }
   ],
   "source": [
    "def get_data(file, is_train):\n",
    "    csv_reader = csv.reader(open(file, newline=''), delimiter='\\t')\n",
    "    raw_data = list(csv_reader)[1:]\n",
    "    random.shuffle(raw_data)\n",
    "    text = [line[2].lower().split(' ') for line in raw_data]\n",
    "    if(is_train):\n",
    "        label = np.array([line[3] for line in raw_data], dtype = np.int32)\n",
    "        return text, label\n",
    "    else:\n",
    "        return text\n",
    "\n",
    "dev_size = 1000\n",
    "train_text, train_label = get_data('data/train.tsv', 1)\n",
    "print(\"whole dataset:\", len(train_text))\n",
    "\n",
    "validate_text = train_text[0:dev_size]\n",
    "validate_label = train_label[0:dev_size]\n",
    "train_text = train_text[dev_size:]\n",
    "train_label = train_label[dev_size:]\n",
    "test_text = get_data('data/test.tsv', 0)\n",
    "\n",
    "print(\"train_text length:\", len(train_text)) # list of list of words\n",
    "print(\"train_label shape:\", train_label.shape) # (N,)\n",
    "print(\"validate_text length:\", len(validate_text)) # list of list of words\n",
    "print(\"validate_label shape:\", validate_label.shape) # (N,)\n",
    "print(\"test_text length:\", len(test_text)) # list of words"
   ]
  },
  {
   "cell_type": "code",
   "execution_count": 3,
   "metadata": {},
   "outputs": [
    {
     "name": "stdout",
     "output_type": "stream",
     "text": [
      "16534\n"
     ]
    }
   ],
   "source": [
    "def get_vocabulary(text, min_count = 0):\n",
    "    # 返回的vocabulary是dictionary类\n",
    "    N = len(text)\n",
    "    vocabulary = {}\n",
    "    frequency = {}\n",
    "    for i in range(N):\n",
    "        for j in range(len(text[i])):\n",
    "            if(text[i][j] in frequency.keys()):\n",
    "                frequency[text[i][j]] += 1\n",
    "            else:\n",
    "                frequency[text[i][j]] = 1\n",
    "\n",
    "    # check frequency\n",
    "    count = 2\n",
    "    vocabulary[\"<pad>\"] = 0\n",
    "    vocabulary[\"<unknown>\"] = 1\n",
    "    for key, value in frequency.items():\n",
    "        if(value >= min_count):\n",
    "            vocabulary[key] = count\n",
    "            count += 1\n",
    "    return vocabulary\n",
    "\n",
    "train_voca = get_vocabulary(train_text)\n",
    "print(len(train_voca))"
   ]
  },
  {
   "cell_type": "markdown",
   "metadata": {},
   "source": [
    "### 2. Hyperparameter"
   ]
  },
  {
   "cell_type": "code",
   "execution_count": 23,
   "metadata": {},
   "outputs": [
    {
     "name": "stdout",
     "output_type": "stream",
     "text": [
      "use_cuda:  True\n"
     ]
    }
   ],
   "source": [
    "is_shuffle = True\n",
    "batch_size = 32\n",
    "embedding_size = 100\n",
    "hidden_size = 64\n",
    "load_address = None\n",
    "num_kernel = 32\n",
    "\n",
    "use_cuda = torch.cuda.is_available()\n",
    "print(\"use_cuda: \", use_cuda)\n",
    "device = torch.device(\"cuda\" if use_cuda else \"cpu\")"
   ]
  },
  {
   "cell_type": "markdown",
   "metadata": {},
   "source": [
    "### 3. Capsulate data"
   ]
  },
  {
   "cell_type": "code",
   "execution_count": 5,
   "metadata": {},
   "outputs": [],
   "source": [
    "class dataset(Dataset):\n",
    "    def __init__(self, vocabulary, text, label = None):\n",
    "    # text: [[words]] of length N\n",
    "    # label: numpy array [N,]\n",
    "        self.encoded_data = []\n",
    "        for i, sentence in enumerate(text):\n",
    "            word_index = []\n",
    "            for word in sentence:\n",
    "                if word in vocabulary.keys():\n",
    "                    word_index.append(vocabulary[word])\n",
    "                else:# unknown word\n",
    "                    word_index.append(1)\n",
    "            if label is None:\n",
    "                target = -1\n",
    "            else:\n",
    "                target = label[i]\n",
    "            self.encoded_data.append((word_index, len(word_index), target)) # tuple of (list, scalar, scalar)\n",
    "    \n",
    "    def __len__(self):\n",
    "        return len(self.encoded_data)\n",
    "    \n",
    "    def __getitem__(self, index):\n",
    "        return torch.LongTensor(self.encoded_data[index][0]), self.encoded_data[index][1], self.encoded_data[index][2]\n",
    "\n",
    "def collate_fn(batch):\n",
    "    batch = sorted(batch, key=lambda x: -x[1]) # 降序排序\n",
    "    sentences, lengths, labels = zip(*batch) # 配对\n",
    "    padded_sentences = pad_sequence(list(sentences), batch_first = True)\n",
    "    return padded_sentences.to(device), torch.LongTensor(lengths).to(device), torch.LongTensor(labels).to(device)"
   ]
  },
  {
   "cell_type": "code",
   "execution_count": 7,
   "metadata": {},
   "outputs": [],
   "source": [
    "train_dataset = dataset(train_voca, train_text, train_label)\n",
    "train_dataloader = DataLoader(train_dataset,         \n",
    "                              batch_size = batch_size,\n",
    "                              collate_fn = collate_fn,\n",
    "                              shuffle = is_shuffle) \n",
    "\n",
    "validate_dataset = dataset(train_voca, validate_text, validate_label)\n",
    "validate_dataloader = DataLoader(validate_dataset,         \n",
    "                              batch_size = batch_size,\n",
    "                              collate_fn = collate_fn,\n",
    "                              shuffle = False) \n",
    "\n",
    "test_dataset = dataset(train_voca, test_text)\n",
    "test_dataloader = DataLoader(test_dataset,         \n",
    "                              batch_size = batch_size, \n",
    "                              collate_fn = collate_fn,\n",
    "                              shuffle=False) "
   ]
  },
  {
   "cell_type": "markdown",
   "metadata": {},
   "source": [
    "### 4. Build CNN model"
   ]
  },
  {
   "cell_type": "code",
   "execution_count": 45,
   "metadata": {},
   "outputs": [],
   "source": [
    "class CNN(nn.Module):\n",
    "    def __init__(self):\n",
    "        super(CNN,self).__init__()\n",
    "        self.embedding = nn.Embedding(len(train_voca), embedding_size)# nn.Embedding用的是N(0,1)的随机初始化\n",
    "        self.LSTM = nn.LSTM(embedding_size, hidden_size, batch_first=True)\n",
    "        self.dropout = nn.Dropout(p = 0.5)\n",
    "        self.conv1 = nn.Sequential(\n",
    "            nn.Conv2d(in_channels = 1, out_channels = num_kernel, kernel_size = (3, embedding_size)),\n",
    "            nn.ReLU(),\n",
    "            nn.AdaptiveMaxPool2d(1),\n",
    "        )\n",
    "        self.conv2 = nn.Sequential(\n",
    "            nn.Conv2d(in_channels = 1, out_channels = num_kernel, kernel_size = (4, embedding_size)),\n",
    "            nn.ReLU(),\n",
    "            nn.AdaptiveMaxPool2d(1),\n",
    "        )\n",
    "        self.conv3 = nn.Sequential(\n",
    "            nn.Conv2d(in_channels = 1, out_channels = num_kernel, kernel_size = (5, embedding_size)),\n",
    "            nn.ReLU(),\n",
    "            nn.AdaptiveMaxPool2d(1),\n",
    "        )\n",
    "        self.classifier = nn.Sequential(\n",
    "            nn.Linear(num_kernel * 3, 5)\n",
    "        )\n",
    "\n",
    "    def forward(self, x, lengths):\n",
    "        N = x.shape[0]\n",
    "        h0 = Variable(torch.zeros(1, N, hidden_size)).to(device)\n",
    "        c0 = Variable(torch.zeros(1, N, hidden_size)).to(device)\n",
    "        x = self.embedding(x)\n",
    "        x = x.view(N, 1, x.shape[1], x.shape[2])\n",
    "        conv1 = self.conv1(x).view((N, -1))\n",
    "        conv2 = self.conv2(x).view((N, -1))\n",
    "        conv3 = self.conv3(x).view((N, -1))\n",
    "        x = torch.cat((conv1, conv2, conv3), dim = 1)\n",
    "        x = self.dropout(x)\n",
    "        score = self.classifier(x)\n",
    "        return score\n",
    "    \n",
    "model = CNN()\n",
    "model = model.to(device)\n",
    "if(load_address is not None):\n",
    "    model = torch.load(load_address)"
   ]
  },
  {
   "cell_type": "markdown",
   "metadata": {},
   "source": [
    "### 5. Train Model"
   ]
  },
  {
   "cell_type": "code",
   "execution_count": 46,
   "metadata": {},
   "outputs": [],
   "source": [
    "def predict(model, dataloader):\n",
    "    model.eval()\n",
    "    num_correct = torch.tensor(0.0)\n",
    "    num_sample = torch.tensor(0.0)\n",
    "    for index,(x, lengths, y) in enumerate(dataloader):\n",
    "        score = model(x, lengths)\n",
    "        y_predict = torch.argmax(score, dim = 1)\n",
    "        num_correct += torch.sum(y_predict == y)\n",
    "        num_sample += x.shape[0]\n",
    "    return 1.0 * num_correct / num_sample"
   ]
  },
  {
   "cell_type": "code",
   "execution_count": 47,
   "metadata": {},
   "outputs": [],
   "source": [
    "optimizer = optim.SGD(model.parameters(), lr = 0.05, momentum = 0.9)"
   ]
  },
  {
   "cell_type": "code",
   "execution_count": 48,
   "metadata": {},
   "outputs": [
    {
     "name": "stdout",
     "output_type": "stream",
     "text": [
      "Epoch: 0, loss: 9122.6630859375, accu: 0.4909999966621399\n",
      "Epoch: 1, loss: 6249.5791015625, accu: 0.4950000047683716\n",
      "Epoch: 2, loss: 6144.0234375, accu: 0.49900001287460327\n"
     ]
    }
   ],
   "source": [
    "def train(model, dataloader, optimizer, num_epoch = 30):\n",
    "    model.train()\n",
    "    loss_history = []\n",
    "    for i in range(num_epoch):\n",
    "        losses = 0\n",
    "        for index,(x, lengths, y) in enumerate(dataloader):\n",
    "            optimizer.zero_grad()\n",
    "            score = model(x, lengths)\n",
    "            loss_fn = nn.CrossEntropyLoss().to(device)\n",
    "            loss = loss_fn(score, y)\n",
    "            loss.backward()\n",
    "            losses += loss\n",
    "            optimizer.step()\n",
    "        loss_history.append(losses)\n",
    "        print(\"Epoch: {0}, loss: {1}, accu: {2}\".format(i, losses, predict(model, validate_dataloader)))\n",
    "        if((i + 1) % 50 == 0):\n",
    "            torch.save(model, \"CNN random embedding_batch {0}_embedding {1}_epoch {2}\".format(batch_size, embedding_size, i + 1))\n",
    "    return loss_history\n",
    "\n",
    "loss_history = train(model, train_dataloader, optimizer, num_epoch = 3)"
   ]
  },
  {
   "cell_type": "markdown",
   "metadata": {},
   "source": [
    "### 6. Get Result"
   ]
  },
  {
   "cell_type": "code",
   "execution_count": 35,
   "metadata": {},
   "outputs": [
    {
     "data": {
      "image/png": "[encoded data removed]",
      "text/plain": [
       "<Figure size 432x288 with 1 Axes>"
      ]
     },
     "metadata": {},
     "output_type": "display_data"
    }
   ],
   "source": [
    "def plot(plt):\n",
    "    plt.title(\"training loss\")\n",
    "    plt.xlabel(\"epoch\")\n",
    "    plt.ylabel('loss')\n",
    "    plt.plot(range(len(loss_history)), loss_history)\n",
    "    return plt\n",
    "\n",
    "plt.figure(0)\n",
    "plot(plt)\n",
    "plt.show()"
   ]
  },
  {
   "cell_type": "code",
   "execution_count": 168,
   "metadata": {},
   "outputs": [],
   "source": [
    "def get_answer(model, dataloader):\n",
    "    answer = []\n",
    "    for index,(x,lengths, y) in enumerate(dataloader):\n",
    "        score = model(x, lengths)\n",
    "        y_predict = torch.argmax(score, dim = 1).cpu().numpy()\n",
    "        answer += list(y_predict)\n",
    "    index = [a + 156061 for a in range(len(answer))]\n",
    "    dataframe = pd.DataFrame({'PhraseId':index, 'Sentiment':answer})\n",
    "    dataframe.to_csv(\"answer_RNN.csv\",index=False,sep=',')\n",
    "    return answer\n",
    "\n",
    "answer = get_answer(model, test_dataloader)"
   ]
  }
 ],
 "metadata": {
  "kernelspec": {
   "display_name": "Python 3",
   "language": "python",
   "name": "python3"
  },
  "language_info": {
   "codemirror_mode": {
    "name": "ipython",
    "version": 3
   },
   "file_extension": ".py",
   "mimetype": "text/x-python",
   "name": "python",
   "nbconvert_exporter": "python",
   "pygments_lexer": "ipython3",
   "version": "3.6.5"
  }
 },
 "nbformat": 4,
 "nbformat_minor": 2
}
