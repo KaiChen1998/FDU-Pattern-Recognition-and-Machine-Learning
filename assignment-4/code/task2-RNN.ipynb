{
 "cells": [
  {
   "cell_type": "code",
   "execution_count": 1,
   "metadata": {},
   "outputs": [],
   "source": [
    "import csv\n",
    "import numpy as np\n",
    "import pandas as pd\n",
    "import matplotlib.pyplot as plt\n",
    "import torch\n",
    "import torch.nn as nn\n",
    "from torch.autograd import Variable\n",
    "import torch.optim as optim\n",
    "from torch.nn.utils.rnn import pack_padded_sequence, pad_packed_sequence\n",
    "import time"
   ]
  },
  {
   "cell_type": "code",
   "execution_count": 2,
   "metadata": {},
   "outputs": [],
   "source": [
    "import fastNLP\n",
    "from fastNLP.io.dataset_loader import CSVLoader\n",
    "from fastNLP import Batch\n",
    "from fastNLP import Vocabulary\n",
    "from fastNLP import RandomSampler, SequentialSampler\n",
    "from fastNLP.io.embed_loader import EmbedLoader"
   ]
  },
  {
   "cell_type": "markdown",
   "metadata": {},
   "source": [
    "## Part1. Text classification using RNN with random word embedding\n",
    "### 1. Hyperparameter"
   ]
  },
  {
   "cell_type": "code",
   "execution_count": 3,
   "metadata": {},
   "outputs": [
    {
     "name": "stdout",
     "output_type": "stream",
     "text": [
      "use_cuda:  True\n"
     ]
    }
   ],
   "source": [
    "batch_size = 2\n",
    "learning_rate = 0.001\n",
    "num_epoch = 5\n",
    "hidden_size = 128\n",
    "dropout_rate = 0\n",
    "bidirectional = 0\n",
    "use_pretrain = 0\n",
    "freeze_pretrain = 1\n",
    "embed_path = 'data/glove.6B.300d.txt'\n",
    "embedding_size = 300\n",
    "\n",
    "loss_history = []\n",
    "load_address = None\n",
    "use_cuda = torch.cuda.is_available()\n",
    "print(\"use_cuda: \", use_cuda)\n",
    "device = torch.device(\"cuda\" if use_cuda else \"cpu\")"
   ]
  },
  {
   "cell_type": "markdown",
   "metadata": {},
   "source": [
    "### 2. data preprocess "
   ]
  },
  {
   "cell_type": "code",
   "execution_count": 4,
   "metadata": {},
   "outputs": [],
   "source": [
    "def get_word(x):\n",
    "    if(x == ' '):\n",
    "        return [' ']\n",
    "    else:\n",
    "        return x.lower().split()\n",
    "\n",
    "def load_data(path, is_train = 0):\n",
    "    loader = CSVLoader(sep='\\t')\n",
    "    dataset = loader.load(path)\n",
    "    dataset.delete_field('SentenceId')\n",
    "    dataset.delete_field('PhraseId')\n",
    "    \n",
    "    dataset.apply(lambda x: get_word(x['Phrase']), new_field_name = 'words', is_input = True)\n",
    "    dataset.apply(lambda x: len(x['words']), new_field_name = \"length\", is_input = True)\n",
    "    dataset.delete_field('Phrase')\n",
    "    if(is_train):\n",
    "        dataset.apply(lambda x: int(x['Sentiment']), new_field_name = \"Sentiment\")\n",
    "        dataset.set_target('Sentiment')\n",
    "    return dataset"
   ]
  },
  {
   "cell_type": "code",
   "execution_count": 5,
   "metadata": {},
   "outputs": [
    {
     "name": "stdout",
     "output_type": "stream",
     "text": [
      "train_dataset size:  140454\n",
      "val_dataset size:  15606\n",
      "test_dataset size:  66292\n"
     ]
    }
   ],
   "source": [
    "# 1. get dataset\n",
    "dataset = load_data('data/train.tsv', 1)\n",
    "train_dataset, val_dataset = dataset.split(0.1)\n",
    "test_dataset = load_data('data/test.tsv', 0)\n",
    "print(\"train_dataset size: \", train_dataset.get_length())\n",
    "print(\"val_dataset size: \", val_dataset.get_length())\n",
    "print(\"test_dataset size: \", test_dataset.get_length())"
   ]
  },
  {
   "cell_type": "code",
   "execution_count": 6,
   "metadata": {},
   "outputs": [
    {
     "name": "stdout",
     "output_type": "stream",
     "text": [
      "vocabulary size:  16507\n"
     ]
    }
   ],
   "source": [
    "# 2. get vocabulary\n",
    "if(use_pretrain):\n",
    "    loader = EmbedLoader()\n",
    "    pre_embed, vocab = loader.load_without_vocab(embed_path, normalize = False)\n",
    "    embeddig_size = pre_embed.shape[1]\n",
    "else:\n",
    "    vocab = Vocabulary(min_freq=2).from_dataset(dataset, field_name='words')\n",
    "print(\"vocabulary size: \", len(vocab))"
   ]
  },
  {
   "cell_type": "code",
   "execution_count": 7,
   "metadata": {},
   "outputs": [],
   "source": [
    "# 3. change word to index\n",
    "vocab.index_dataset(train_dataset, field_name='words',new_field_name='words')\n",
    "vocab.index_dataset(val_dataset, field_name='words',new_field_name='words')\n",
    "vocab.index_dataset(test_dataset, field_name='words',new_field_name='words')"
   ]
  },
  {
   "cell_type": "markdown",
   "metadata": {},
   "source": [
    "### 3. Build RNN model"
   ]
  },
  {
   "cell_type": "code",
   "execution_count": 9,
   "metadata": {},
   "outputs": [],
   "source": [
    "def bi_fetch(rnn_outs):\n",
    "    # rnn_out: [batch_size, seq_len, 2 * hidden_size]\n",
    "    batch_size = rnn_outs.size(0)\n",
    "    seq_len = rnn_outs.size(1)\n",
    "    rnn_outs = rnn_outs.view(batch_size, seq_len, 2, -1) # (batch_size, seq_len, 2, hidden_size)\n",
    "\n",
    "    fw_out = torch.index_select(rnn_outs, 2, Variable(torch.LongTensor([0])).to(device))\n",
    "    fw_out = fw_out.view(batch_size * seq_len, -1) # 正向\n",
    "    bw_out = torch.index_select(rnn_outs, 2, Variable(torch.LongTensor([1])).to(device))\n",
    "    bw_out = bw_out.view(batch_size * seq_len, -1)\n",
    "\n",
    "    batch_range = Variable(torch.LongTensor(range(batch_size))).to(device) * seq_len\n",
    "\n",
    "    fw_index = batch_range + seq_len - 1\n",
    "    fw_out = torch.index_select(fw_out, 0, fw_index)  # (batch_size, hid)\n",
    "    bw_index = batch_range\n",
    "    bw_out = torch.index_select(bw_out, 0, bw_index)\n",
    "    outs = torch.cat([fw_out, bw_out], dim=1)\n",
    "\n",
    "    return outs"
   ]
  },
  {
   "cell_type": "code",
   "execution_count": 27,
   "metadata": {},
   "outputs": [],
   "source": [
    "class RNN(nn.Module):\n",
    "    def __init__(self):\n",
    "        super(RNN,self).__init__()\n",
    "        self.embedding = nn.Embedding(len(vocab), embedding_size, padding_idx = vocab['<pad>'])# nn.Embedding用的是N(0,1)的随机初始化\n",
    "        if(use_pretrain):\n",
    "            self.embedding.from_pretrained(torch.Tensor(pre_embed), freeze = bool(freeze_pretrain))\n",
    "        self.LSTM = nn.LSTM(embedding_size, hidden_size, batch_first=True, dropout = dropout_rate, bidirectional = bool(bidirectional))\n",
    "        h = hidden_size + hidden_size * bidirectional\n",
    "        self.classifier = nn.Sequential(\n",
    "            nn.Linear(h, 5)\n",
    "        )\n",
    "\n",
    "    def forward(self, x, lengths):\n",
    "        N = x.size(0)\n",
    "        x = self.embedding(x)\n",
    "        x = pack_padded_sequence(x, lengths, batch_first=True) # 去掉所有padding, [N, T, E] -> [N * T, E]\n",
    "        # 加双向\n",
    "        out, (ht, ct) = self.LSTM(x)\n",
    "        if(bidirectional):\n",
    "            out = pad_packed_sequence(out, batch_first = True)[0]\n",
    "            x = bi_fetch(out)\n",
    "        else:\n",
    "            x = ht\n",
    "        score = self.classifier(x.view(N, -1))\n",
    "        return score\n",
    "    \n",
    "model = RNN()\n",
    "# model = nn.DataParallel(model)\n",
    "model = model.to(device)\n",
    "optimizer = optim.Adam(model.parameters(), lr = learning_rate)\n",
    "if(load_address is not None):\n",
    "    model = torch.load(load_address)"
   ]
  },
  {
   "cell_type": "code",
   "execution_count": 11,
   "metadata": {},
   "outputs": [
    {
     "name": "stdout",
     "output_type": "stream",
     "text": [
      "<bound method Module.named_modules of RNN(\n",
      "  (embedding): Embedding(16507, 300, padding_idx=0)\n",
      "  (LSTM): LSTM(300, 128, batch_first=True, dropout=0.5, bidirectional=True)\n",
      "  (classifier): Sequential(\n",
      "    (0): Linear(in_features=256, out_features=5, bias=True)\n",
      "  )\n",
      ")>\n"
     ]
    }
   ],
   "source": [
    "print(model.named_modules)"
   ]
  },
  {
   "cell_type": "markdown",
   "metadata": {},
   "source": [
    "### 4. Train Model"
   ]
  },
  {
   "cell_type": "code",
   "execution_count": 12,
   "metadata": {},
   "outputs": [],
   "source": [
    "def model_status(training):\n",
    "    if(training):\n",
    "        return 'model is in training'\n",
    "    else:\n",
    "        return 'model is in testing'"
   ]
  },
  {
   "cell_type": "code",
   "execution_count": 13,
   "metadata": {},
   "outputs": [],
   "source": [
    "def pack(batch_x, batch_y, is_train = 1):\n",
    "    x = batch_x['words']\n",
    "    lengths = batch_x['length']\n",
    "    index = torch.argsort(lengths, descending = True)\n",
    "    x = x[index].to(device)\n",
    "    lengths = lengths[index].to(device)\n",
    "    if(is_train):\n",
    "        y = batch_y['Sentiment']\n",
    "        y = y[index].to(device)\n",
    "        return x, lengths, y\n",
    "    else:\n",
    "        return x, lengths"
   ]
  },
  {
   "cell_type": "code",
   "execution_count": 14,
   "metadata": {},
   "outputs": [],
   "source": [
    "def predict(model, dataset):\n",
    "    model.eval()\n",
    "    print(model_status(model.training))\n",
    "    num_correct = torch.tensor(0.0)\n",
    "    num_sample = torch.tensor(0.0)\n",
    "    for batch_x, batch_y in Batch(dataset, sampler = SequentialSampler(), batch_size = batch_size):\n",
    "        x, lengths, y = pack(batch_x, batch_y)\n",
    "        score = model(x, lengths)\n",
    "        y_predict = torch.argmax(score, dim = 1)\n",
    "        num_correct += torch.sum(y_predict == y)\n",
    "        num_sample += x.shape[0]\n",
    "    return 1.0 * num_correct / num_sample"
   ]
  },
  {
   "cell_type": "code",
   "execution_count": 28,
   "metadata": {},
   "outputs": [
    {
     "name": "stdout",
     "output_type": "stream",
     "text": [
      "Epoch: 0 start\n",
      "model is in training\n",
      "Epoch: 0 finish\n",
      "model is in testing\n",
      "Epoch: 0, loss: 358.6976013183594, accu: 0.46000000834465027, time: 3.368295907974243\n",
      "Epoch: 1 start\n",
      "model is in training\n",
      "Epoch: 1 finish\n",
      "model is in testing\n",
      "Epoch: 1, loss: 202.03274536132812, accu: 0.3499999940395355, time: 3.7628448009490967\n",
      "Epoch: 2 start\n",
      "model is in training\n",
      "Epoch: 2 finish\n",
      "model is in testing\n",
      "Epoch: 2, loss: 58.00729751586914, accu: 0.33000001311302185, time: 3.426038980484009\n",
      "Epoch: 3 start\n",
      "model is in training\n",
      "Epoch: 3 finish\n",
      "model is in testing\n",
      "Epoch: 3, loss: 14.02380084991455, accu: 0.3799999952316284, time: 4.003709316253662\n",
      "Epoch: 4 start\n",
      "model is in training\n",
      "Epoch: 4 finish\n",
      "model is in testing\n",
      "Epoch: 4, loss: 4.151238441467285, accu: 0.4000000059604645, time: 4.006706953048706\n",
      "Epoch: 5 start\n",
      "model is in training\n",
      "Epoch: 5 finish\n",
      "model is in testing\n",
      "Epoch: 5, loss: 2.1997342109680176, accu: 0.3799999952316284, time: 3.854795455932617\n",
      "Epoch: 6 start\n",
      "model is in training\n",
      "Epoch: 6 finish\n",
      "model is in testing\n",
      "Epoch: 6, loss: 1.4130828380584717, accu: 0.3700000047683716, time: 4.163618803024292\n",
      "Epoch: 7 start\n",
      "model is in training\n",
      "Epoch: 7 finish\n",
      "model is in testing\n",
      "Epoch: 7, loss: 0.9805639982223511, accu: 0.3799999952316284, time: 4.203330755233765\n",
      "Epoch: 8 start\n",
      "model is in training\n",
      "Epoch: 8 finish\n",
      "model is in testing\n",
      "Epoch: 8, loss: 0.7224704027175903, accu: 0.3799999952316284, time: 3.990948438644409\n",
      "Epoch: 9 start\n",
      "model is in training\n",
      "Epoch: 9 finish\n",
      "model is in testing\n",
      "Epoch: 9, loss: 0.5391247272491455, accu: 0.3799999952316284, time: 3.7600367069244385\n"
     ]
    }
   ],
   "source": [
    "def train(model, dataset, optimizer, num_epoch = 30):\n",
    "    loss_history = []\n",
    "    for i in range(num_epoch):\n",
    "        start = time.time()\n",
    "        print(\"Epoch: {0} start\".format(i))\n",
    "        model.train()\n",
    "        print(model_status(model.training))\n",
    "        losses = 0\n",
    "        for batch_x, batch_y in Batch(dataset, sampler = RandomSampler(), batch_size = batch_size):\n",
    "            x, lengths, y = pack(batch_x, batch_y)\n",
    "            optimizer.zero_grad()\n",
    "            score = model(x, lengths)\n",
    "            loss_fn = nn.CrossEntropyLoss().to(device)\n",
    "            loss = loss_fn(score, y)\n",
    "            loss.backward()\n",
    "            losses += loss\n",
    "            optimizer.step()\n",
    "        end = time.time()\n",
    "        print(\"Epoch: {0} finish\".format(i))\n",
    "        loss_history.append(losses)\n",
    "        acc = predict(model, val_dataset[0:100])\n",
    "        print(\"Epoch: {0}, loss: {1}, accu: {2}, time: {3}\".format(i, losses, acc, end - start))\n",
    "    return loss_history\n",
    "\n",
    "loss_history_new = train(model, train_dataset[0:500], optimizer, num_epoch = 10)"
   ]
  },
  {
   "cell_type": "markdown",
   "metadata": {},
   "source": [
    "### 5. Get Result"
   ]
  },
  {
   "cell_type": "code",
   "execution_count": 29,
   "metadata": {},
   "outputs": [
    {
     "data": {
      "image/png": "[encoded data removed]",
      "text/plain": [
       "<Figure size 432x288 with 1 Axes>"
      ]
     },
     "metadata": {},
     "output_type": "display_data"
    }
   ],
   "source": [
    "def plot(plt):\n",
    "    plt.title(\"training loss\")\n",
    "    plt.xlabel(\"epoch\")\n",
    "    plt.ylabel('loss')\n",
    "    plt.plot(range(len(loss_history)), loss_history)\n",
    "    return plt\n",
    "\n",
    "loss_history += loss_history_new\n",
    "plt.figure(0)\n",
    "plot(plt)\n",
    "plt.show()"
   ]
  },
  {
   "cell_type": "code",
   "execution_count": 30,
   "metadata": {},
   "outputs": [
    {
     "name": "stdout",
     "output_type": "stream",
     "text": [
      "start to generate result\n",
      "model is in testing\n"
     ]
    }
   ],
   "source": [
    "def get_answer(model, dataset):\n",
    "    answer = []\n",
    "    model.eval()\n",
    "    print(\"start to generate result\")\n",
    "    print(model_status(model.training))\n",
    "    for batch_x, batch_y in Batch(dataset, sampler = SequentialSampler(), batch_size = batch_size):\n",
    "        x, lengths = pack(batch_x, batch_y, 0)\n",
    "        score = model(x, lengths)\n",
    "        y_predict = torch.argmax(score, dim = 1).cpu().numpy()\n",
    "        answer += list(y_predict)\n",
    "    index = [a + 156061 for a in range(len(answer))]\n",
    "    dataframe = pd.DataFrame({'PhraseId':index, 'Sentiment':answer})\n",
    "    name = \"result/RNN_pretrain\" + str(use_pretrain) + \"_freeze\" + str(freeze_pretrain) + \"_random_batch_size\" + str(batch_size) + \"_dropout\" + str(dropout_rate) + \"_bidirectional\" + str(bidirectional) + \"_lr\" + str(learning_rate) + \"_epoch\" + str(num_epoch) + \"_embedding\" + str(embedding_size)+\".csv\"\n",
    "    dataframe.to_csv(name,index=False,sep=',')\n",
    "    return answer\n",
    "\n",
    "answer = get_answer(model, test_dataset[0:10])"
   ]
  }
 ],
 "metadata": {
  "kernelspec": {
   "display_name": "Python 3",
   "language": "python",
   "name": "python3"
  },
  "language_info": {
   "codemirror_mode": {
    "name": "ipython",
    "version": 3
   },
   "file_extension": ".py",
   "mimetype": "text/x-python",
   "name": "python",
   "nbconvert_exporter": "python",
   "pygments_lexer": "ipython3",
   "version": "3.6.5"
  }
 },
 "nbformat": 4,
 "nbformat_minor": 2
}
